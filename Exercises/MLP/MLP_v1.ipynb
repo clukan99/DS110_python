{
 "cells": [
  {
   "cell_type": "markdown",
   "metadata": {},
   "source": [
    "Sources:\n",
    "https://medium.com/biaslyai/pytorch-introduction-to-neural-network-feedforward-neural-network-model-e7231cff47cb\n",
    "https://github.com/christianversloot/machine-learning-articles/blob/main/how-to-create-a-neural-network-for-regression-with-pytorch.md\n"
   ]
  },
  {
   "cell_type": "markdown",
   "metadata": {},
   "source": [
    "##### Importing basic libraries"
   ]
  },
  {
   "cell_type": "code",
   "execution_count": 1,
   "metadata": {},
   "outputs": [],
   "source": [
    "import pandas as pd\n",
    "import numpy as np\n",
    "import matplotlib.pyplot as plt\n",
    "import math\n",
    "from sklearn.model_selection import train_test_split\n",
    "import random\n",
    "random.seed(123)"
   ]
  },
  {
   "cell_type": "markdown",
   "metadata": {},
   "source": [
    "##### Importing PyTorch libraries"
   ]
  },
  {
   "cell_type": "code",
   "execution_count": 2,
   "metadata": {},
   "outputs": [],
   "source": [
    "import os\n",
    "import torch\n",
    "from torch import nn\n",
    "from torchvision.datasets import CIFAR10\n",
    "from torch.utils.data import DataLoader\n",
    "from torchvision import transforms"
   ]
  },
  {
   "cell_type": "markdown",
   "metadata": {},
   "source": [
    "##### Importing the data"
   ]
  },
  {
   "cell_type": "code",
   "execution_count": 3,
   "metadata": {},
   "outputs": [
    {
     "data": {
      "text/html": [
       "<div>\n",
       "<style scoped>\n",
       "    .dataframe tbody tr th:only-of-type {\n",
       "        vertical-align: middle;\n",
       "    }\n",
       "\n",
       "    .dataframe tbody tr th {\n",
       "        vertical-align: top;\n",
       "    }\n",
       "\n",
       "    .dataframe thead th {\n",
       "        text-align: right;\n",
       "    }\n",
       "</style>\n",
       "<table border=\"1\" class=\"dataframe\">\n",
       "  <thead>\n",
       "    <tr style=\"text-align: right;\">\n",
       "      <th></th>\n",
       "      <th>TV</th>\n",
       "      <th>radio</th>\n",
       "      <th>newspaper</th>\n",
       "      <th>sales</th>\n",
       "    </tr>\n",
       "  </thead>\n",
       "  <tbody>\n",
       "    <tr>\n",
       "      <th>0</th>\n",
       "      <td>230.1</td>\n",
       "      <td>37.8</td>\n",
       "      <td>69.2</td>\n",
       "      <td>22.1</td>\n",
       "    </tr>\n",
       "    <tr>\n",
       "      <th>1</th>\n",
       "      <td>44.5</td>\n",
       "      <td>39.3</td>\n",
       "      <td>45.1</td>\n",
       "      <td>10.4</td>\n",
       "    </tr>\n",
       "    <tr>\n",
       "      <th>2</th>\n",
       "      <td>17.2</td>\n",
       "      <td>45.9</td>\n",
       "      <td>69.3</td>\n",
       "      <td>9.3</td>\n",
       "    </tr>\n",
       "    <tr>\n",
       "      <th>3</th>\n",
       "      <td>151.5</td>\n",
       "      <td>41.3</td>\n",
       "      <td>58.5</td>\n",
       "      <td>18.5</td>\n",
       "    </tr>\n",
       "    <tr>\n",
       "      <th>4</th>\n",
       "      <td>180.8</td>\n",
       "      <td>10.8</td>\n",
       "      <td>58.4</td>\n",
       "      <td>12.9</td>\n",
       "    </tr>\n",
       "  </tbody>\n",
       "</table>\n",
       "</div>"
      ],
      "text/plain": [
       "      TV  radio  newspaper  sales\n",
       "0  230.1   37.8       69.2   22.1\n",
       "1   44.5   39.3       45.1   10.4\n",
       "2   17.2   45.9       69.3    9.3\n",
       "3  151.5   41.3       58.5   18.5\n",
       "4  180.8   10.8       58.4   12.9"
      ]
     },
     "execution_count": 3,
     "metadata": {},
     "output_type": "execute_result"
    }
   ],
   "source": [
    "ad_data = pd.read_csv(\"../../DATA/Advertising.csv\")\n",
    "ad_data = ad_data.drop('CompID', axis = 1)\n",
    "ad_data.head()\n"
   ]
  },
  {
   "cell_type": "code",
   "execution_count": 4,
   "metadata": {},
   "outputs": [],
   "source": [
    "\n",
    "ad_data = ad_data.values\n",
    "ad_train, ad_test = train_test_split(ad_data, test_size= 0.2)"
   ]
  },
  {
   "cell_type": "code",
   "execution_count": 5,
   "metadata": {},
   "outputs": [],
   "source": [
    "D_train = torch.tensor(ad_train, dtype=torch.float)\n",
    "D_test = torch.tensor(ad_test, dtype=torch.float)"
   ]
  },
  {
   "cell_type": "code",
   "execution_count": 6,
   "metadata": {},
   "outputs": [],
   "source": [
    "x_train = D_train[:,0:2].t()\n",
    "y_train = D_train[:,2].t()\n",
    "\n",
    "x_test = D_test[:,0:2].t()\n",
    "y_test = D_test[:,2].t()\n"
   ]
  },
  {
   "cell_type": "code",
   "execution_count": 7,
   "metadata": {},
   "outputs": [],
   "source": [
    "n = 2"
   ]
  },
  {
   "cell_type": "code",
   "execution_count": 8,
   "metadata": {},
   "outputs": [],
   "source": [
    "A = torch.randn((1, n), requires_grad=True)\n",
    "b = torch.randn(1, requires_grad=True)"
   ]
  },
  {
   "cell_type": "code",
   "execution_count": 9,
   "metadata": {},
   "outputs": [],
   "source": [
    "def model(x_input):\n",
    "    return A.mm(x_input) + b"
   ]
  },
  {
   "cell_type": "code",
   "execution_count": 10,
   "metadata": {},
   "outputs": [],
   "source": [
    "length = len(ad_data)\n",
    "predictors = 3\n",
    "\n",
    "def loss(y_predicted, y_target):\n",
    "    return ((y_predicted - y_target)**2).sum()\n"
   ]
  },
  {
   "cell_type": "code",
   "execution_count": 11,
   "metadata": {},
   "outputs": [],
   "source": [
    "optimizer = optim.Adam([A, b], lr=0.1)"
   ]
  },
  {
   "cell_type": "code",
   "execution_count": 12,
   "metadata": {},
   "outputs": [
    {
     "name": "stdout",
     "output_type": "stream",
     "text": [
      "t = 0, loss = 62.63845601445649, A = [[0.17267165 1.8723315 ]], b = -0.6584495306015015\n",
      "t = 1, loss = 46.64947047612786, A = [[0.0753721 1.7742138]], b = -0.7559524774551392\n",
      "t = 2, loss = 33.00713479333862, A = [[-0.01533637  1.6803403 ]], b = -0.8474677205085754\n",
      "t = 3, loss = 24.935671631752022, A = [[-0.09334135  1.5941646 ]], b = -0.9275782108306885\n",
      "t = 4, loss = 25.37282308627062, A = [[-0.1516305  1.5197898]], b = -0.9899412393569946\n",
      "t = 5, loss = 30.40062395760519, A = [[-0.18598548  1.4605721 ]], b = -1.0302902460098267\n",
      "t = 6, loss = 34.751039777609535, A = [[-0.1971856  1.417684 ]], b = -1.048627495765686\n",
      "t = 7, loss = 36.56187900113655, A = [[-0.1892494  1.3899488]], b = -1.0481836795806885\n",
      "t = 8, loss = 35.84436981809347, A = [[-0.16690959  1.3746994 ]], b = -1.0332591533660889\n",
      "t = 9, loss = 33.23559992747329, A = [[-0.1344958  1.3686451]], b = -1.0080339908599854\n",
      "t = 10, loss = 29.56189609418844, A = [[-0.09581472  1.3683443 ]], b = -0.976301372051239\n",
      "t = 11, loss = 25.76013695153267, A = [[-0.05433087  1.3703986 ]], b = -0.9415522217750549\n",
      "t = 12, loss = 22.8478616127076, A = [[-0.01331375  1.3715781 ]], b = -0.9070717692375183\n",
      "t = 13, loss = 21.64114817734017, A = [[0.02417755 1.3690109 ]], b = -0.8758992552757263\n",
      "t = 14, loss = 22.18621392619539, A = [[0.05549701 1.3604481 ]], b = -0.850620448589325\n",
      "t = 15, loss = 23.689024058408226, A = [[0.07871558 1.3444983 ]], b = -0.8330789804458618\n",
      "t = 16, loss = 25.18313659281432, A = [[0.09285615 1.3207049 ]], b = -0.8241675496101379\n",
      "t = 17, loss = 26.025847278474913, A = [[0.09792915 1.2894365 ]], b = -0.8238136768341064\n",
      "t = 18, loss = 25.96503738691524, A = [[0.09477893 1.2516744 ]], b = -0.8311384916305542\n",
      "t = 19, loss = 25.05314176125172, A = [[0.08485052 1.2088071 ]], b = -0.8446813821792603\n",
      "t = 20, loss = 23.557132180350393, A = [[0.06997303 1.1624779 ]], b = -0.8626033067703247\n",
      "t = 21, loss = 21.885229193132464, A = [[0.05219028 1.1144831 ]], b = -0.8828451633453369\n",
      "t = 22, loss = 20.49866090448235, A = [[0.03361923 1.0666854 ]], b = -0.9032649993896484\n",
      "t = 23, loss = 19.763667918179515, A = [[0.01630406 1.0209098 ]], b = -0.9217858910560608\n",
      "t = 24, loss = 19.775003179074886, A = [[0.00205093 0.9788093 ]], b = -0.9365690350532532\n",
      "t = 25, loss = 20.31003290306142, A = [[-0.00774097  0.94171166]], b = -0.9461913108825684\n",
      "t = 26, loss = 20.98606628283023, A = [[-0.01221219  0.91048425]], b = -0.949783444404602\n",
      "t = 27, loss = 21.463468521118184, A = [[-0.01110232  0.8854557 ]], b = -0.9470878839492798\n",
      "t = 28, loss = 21.55367162452947, A = [[-0.00472632  0.8664146 ]], b = -0.9384281635284424\n",
      "t = 29, loss = 21.23597020774098, A = [[0.00611242 0.852676  ]], b = -0.9246127009391785\n"
     ]
    }
   ],
   "source": [
    "for t in range(30):\n",
    "    # Set the gradients to 0.\n",
    "    optimizer.zero_grad()\n",
    "    # Compute the current predicted y's from x_dataset\n",
    "    y_train_predicted = model(x_train)\n",
    "    # See how far off the prediction is\n",
    "    current_loss = loss(y_train_predicted, y_train)\n",
    "    RSE_loss = math.sqrt(current_loss/(length - predictors - 1))\n",
    "    # Compute the gradient of the loss with respect to A and b.\n",
    "    current_loss.backward()\n",
    "    # Update A and b accordingly.\n",
    "    optimizer.step()\n",
    "    print(f\"t = {t}, loss = {RSE_loss}, A = {A.detach().numpy()}, b = {b.item()}\")"
   ]
  },
  {
   "cell_type": "code",
   "execution_count": 13,
   "metadata": {},
   "outputs": [],
   "source": [
    "y_pred_test = model(x_test)\n",
    "y_test"
   ]
  }
 ],
 "metadata": {
  "kernelspec": {
   "display_name": "Python 3.9.7 ('base')",
   "language": "python",
   "name": "python3"
  },
  "language_info": {
   "codemirror_mode": {
    "name": "ipython",
    "version": 3
   },
   "file_extension": ".py",
   "mimetype": "text/x-python",
   "name": "python",
   "nbconvert_exporter": "python",
   "pygments_lexer": "ipython3",
   "version": "3.9.7"
  },
  "orig_nbformat": 4,
  "vscode": {
   "interpreter": {
    "hash": "3edbd7b23b0fac25ed01096b34e5f59511cb659c0b1d4bb21fa4d1eb2f403c11"
   }
  }
 },
 "nbformat": 4,
 "nbformat_minor": 2
}
