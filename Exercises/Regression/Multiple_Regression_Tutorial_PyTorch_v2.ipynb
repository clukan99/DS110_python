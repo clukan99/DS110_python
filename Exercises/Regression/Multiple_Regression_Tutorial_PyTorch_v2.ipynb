{
 "cells": [
  {
   "cell_type": "markdown",
   "metadata": {},
   "source": [
    "Sources:\n",
    "https://donaldpinckney.com/books/pytorch/book/ch2-linreg/2018-03-21-multi-variable.html\n",
    "https://www.kaggle.com/code/joseguzman/multiple-regression-explained-with-pytorch"
   ]
  },
  {
   "cell_type": "markdown",
   "metadata": {},
   "source": [
    "##### Importing basic libraries"
   ]
  },
  {
   "cell_type": "code",
   "execution_count": 10,
   "metadata": {},
   "outputs": [],
   "source": [
    "import pandas as pd\n",
    "import numpy as np\n",
    "import matplotlib.pyplot as plt\n",
    "import math\n",
    "from sklearn.model_selection import train_test_split\n",
    "import random\n",
    "random.seed(123)\n"
   ]
  },
  {
   "cell_type": "markdown",
   "metadata": {},
   "source": [
    "##### Importing PyTorch libraries"
   ]
  },
  {
   "cell_type": "code",
   "execution_count": 11,
   "metadata": {},
   "outputs": [],
   "source": [
    "import torch\n",
    "import torch.optim as optim"
   ]
  },
  {
   "cell_type": "markdown",
   "metadata": {},
   "source": [
    "##### Importing the data"
   ]
  },
  {
   "cell_type": "code",
   "execution_count": 12,
   "metadata": {},
   "outputs": [
    {
     "data": {
      "text/html": [
       "<div>\n",
       "<style scoped>\n",
       "    .dataframe tbody tr th:only-of-type {\n",
       "        vertical-align: middle;\n",
       "    }\n",
       "\n",
       "    .dataframe tbody tr th {\n",
       "        vertical-align: top;\n",
       "    }\n",
       "\n",
       "    .dataframe thead th {\n",
       "        text-align: right;\n",
       "    }\n",
       "</style>\n",
       "<table border=\"1\" class=\"dataframe\">\n",
       "  <thead>\n",
       "    <tr style=\"text-align: right;\">\n",
       "      <th></th>\n",
       "      <th>TV</th>\n",
       "      <th>radio</th>\n",
       "      <th>newspaper</th>\n",
       "      <th>sales</th>\n",
       "    </tr>\n",
       "  </thead>\n",
       "  <tbody>\n",
       "    <tr>\n",
       "      <th>0</th>\n",
       "      <td>230.1</td>\n",
       "      <td>37.8</td>\n",
       "      <td>69.2</td>\n",
       "      <td>22.1</td>\n",
       "    </tr>\n",
       "    <tr>\n",
       "      <th>1</th>\n",
       "      <td>44.5</td>\n",
       "      <td>39.3</td>\n",
       "      <td>45.1</td>\n",
       "      <td>10.4</td>\n",
       "    </tr>\n",
       "    <tr>\n",
       "      <th>2</th>\n",
       "      <td>17.2</td>\n",
       "      <td>45.9</td>\n",
       "      <td>69.3</td>\n",
       "      <td>9.3</td>\n",
       "    </tr>\n",
       "    <tr>\n",
       "      <th>3</th>\n",
       "      <td>151.5</td>\n",
       "      <td>41.3</td>\n",
       "      <td>58.5</td>\n",
       "      <td>18.5</td>\n",
       "    </tr>\n",
       "    <tr>\n",
       "      <th>4</th>\n",
       "      <td>180.8</td>\n",
       "      <td>10.8</td>\n",
       "      <td>58.4</td>\n",
       "      <td>12.9</td>\n",
       "    </tr>\n",
       "  </tbody>\n",
       "</table>\n",
       "</div>"
      ],
      "text/plain": [
       "      TV  radio  newspaper  sales\n",
       "0  230.1   37.8       69.2   22.1\n",
       "1   44.5   39.3       45.1   10.4\n",
       "2   17.2   45.9       69.3    9.3\n",
       "3  151.5   41.3       58.5   18.5\n",
       "4  180.8   10.8       58.4   12.9"
      ]
     },
     "execution_count": 12,
     "metadata": {},
     "output_type": "execute_result"
    }
   ],
   "source": [
    "ad_data = pd.read_csv(\"../../DATA/Advertising.csv\")\n",
    "ad_data = ad_data.drop('CompID', axis = 1)\n",
    "ad_data.head()\n"
   ]
  },
  {
   "cell_type": "code",
   "execution_count": 13,
   "metadata": {},
   "outputs": [],
   "source": [
    "\n",
    "ad_data = ad_data.values\n",
    "ad_train, ad_test = train_test_split(ad_data, test_size= 0.2)"
   ]
  },
  {
   "cell_type": "code",
   "execution_count": 14,
   "metadata": {},
   "outputs": [],
   "source": [
    "D_train = torch.tensor(ad_train, dtype=torch.float)\n",
    "D_test = torch.tensor(ad_test, dtype=torch.float)"
   ]
  },
  {
   "cell_type": "code",
   "execution_count": 15,
   "metadata": {},
   "outputs": [],
   "source": [
    "x_train = D_train[:,0:2].t()\n",
    "y_train = D_train[:,3].t()\n",
    "\n",
    "x_test = D_test[:,0:2].t()\n",
    "y_test = D_test[:,3].t()\n"
   ]
  },
  {
   "cell_type": "code",
   "execution_count": 16,
   "metadata": {},
   "outputs": [],
   "source": [
    "n = 2"
   ]
  },
  {
   "cell_type": "code",
   "execution_count": 17,
   "metadata": {},
   "outputs": [],
   "source": [
    "A = torch.randn((1, n), requires_grad=True)\n",
    "b = torch.randn(1, requires_grad=True)"
   ]
  },
  {
   "cell_type": "code",
   "execution_count": 18,
   "metadata": {},
   "outputs": [],
   "source": [
    "def model(x_input):\n",
    "    return A.mm(x_input) + b"
   ]
  },
  {
   "cell_type": "code",
   "execution_count": 19,
   "metadata": {},
   "outputs": [],
   "source": [
    "length = len(ad_data)\n",
    "predictors = 3\n",
    "\n",
    "def loss(y_predicted, y_target):\n",
    "    return ((y_predicted - y_target)**2).sum()\n"
   ]
  },
  {
   "cell_type": "code",
   "execution_count": 20,
   "metadata": {},
   "outputs": [],
   "source": [
    "optimizer = optim.Adam([A, b], lr=0.1)"
   ]
  },
  {
   "cell_type": "code",
   "execution_count": 21,
   "metadata": {},
   "outputs": [
    {
     "name": "stdout",
     "output_type": "stream",
     "text": [
      "t = 0, loss = 298.6878988802526, A = [[-1.707698   -0.08027472]], b = 0.5740096569061279\n",
      "t = 1, loss = 281.0637716782439, A = [[-1.6079022   0.01950449]], b = 0.6737990975379944\n",
      "t = 2, loss = 263.48268444055293, A = [[-1.508466    0.11889311]], b = 0.7732170224189758\n",
      "t = 3, loss = 245.97370286272474, A = [[-1.4095608   0.21770275]], b = 0.8720857501029968\n",
      "t = 4, loss = 228.56901993708595, A = [[-1.3113742   0.31572512]], b = 0.9702097177505493\n",
      "t = 5, loss = 211.30428296653147, A = [[-1.2141112   0.41273096]], b = 1.0673748254776\n",
      "t = 6, loss = 194.2188379927395, A = [[-1.1179947  0.5084691]], b = 1.1633474826812744\n",
      "t = 7, loss = 177.35609263216756, A = [[-1.0232655   0.60266584]], b = 1.257874608039856\n",
      "t = 8, loss = 160.76394768417452, A = [[-0.93018216  0.6950251 ]], b = 1.350683569908142\n",
      "t = 9, loss = 144.4951407595598, A = [[-0.83902043  0.7852287 ]], b = 1.4414830207824707\n",
      "t = 10, loss = 128.60812875261811, A = [[-0.7500715   0.87293845]], b = 1.5299639701843262\n",
      "t = 11, loss = 113.16809434697132, A = [[-0.66364014  0.95779806]], b = 1.6158027648925781\n",
      "t = 12, loss = 98.24895137004007, A = [[-0.58004117  1.0394373 ]], b = 1.6986638307571411\n",
      "t = 13, loss = 83.93692991243485, A = [[-0.4995957  1.1174772]], b = 1.7782046794891357\n",
      "t = 14, loss = 70.33788430675179, A = [[-0.4226259  1.1915363]], b = 1.8540810346603394\n",
      "t = 15, loss = 57.592423173810374, A = [[-0.34944877  1.261239  ]], b = 1.9259538650512695\n",
      "t = 16, loss = 45.90908187742514, A = [[-0.2803694  1.3262246]], b = 1.9934971332550049\n",
      "t = 17, loss = 35.63911452849243, A = [[-0.2156734  1.3861568]], b = 2.056406021118164\n",
      "t = 18, loss = 27.431706748874557, A = [[-0.15561908  1.4407343 ]], b = 2.114405632019043\n",
      "t = 19, loss = 22.39742583061479, A = [[-0.10042988  1.4897004 ]], b = 2.1672589778900146\n",
      "t = 20, loss = 21.556888989152053, A = [[-0.05028736  1.532852  ]], b = 2.214775562286377\n",
      "t = 21, loss = 24.296749396781454, A = [[-0.00532522  1.5700467 ]], b = 2.2568166255950928\n",
      "t = 22, loss = 28.811830591464506, A = [[0.03437527 1.6012073 ]], b = 2.2933011054992676\n",
      "t = 23, loss = 33.76089233954725, A = [[0.06878811 1.6263251 ]], b = 2.3242077827453613\n",
      "t = 24, loss = 38.47442808166143, A = [[0.09794372 1.6454595 ]], b = 2.349575996398926\n",
      "t = 25, loss = 42.64344473546022, A = [[0.12192814 1.6587354 ]], b = 2.369504690170288\n",
      "t = 26, loss = 46.12674401767239, A = [[0.1408807 1.666339 ]], b = 2.3841493129730225\n",
      "t = 27, loss = 48.865685553457396, A = [[0.15499026 1.6685117 ]], b = 2.393717050552368\n",
      "t = 28, loss = 50.846659796883415, A = [[0.16449037 1.6655431 ]], b = 2.39846134185791\n",
      "t = 29, loss = 52.083344791665404, A = [[0.1696538 1.6577629]], b = 2.3986759185791016\n"
     ]
    }
   ],
   "source": [
    "for t in range(30):\n",
    "    # Set the gradients to 0.\n",
    "    optimizer.zero_grad()\n",
    "    # Compute the current predicted y's from x_dataset\n",
    "    y_train_predicted = model(x_train)\n",
    "    # See how far off the prediction is\n",
    "    current_loss = loss(y_train_predicted, y_train)\n",
    "    RSE_loss = math.sqrt(current_loss/(length - predictors - 1))\n",
    "    # Compute the gradient of the loss with respect to A and b.\n",
    "    current_loss.backward()\n",
    "    # Update A and b accordingly.\n",
    "    optimizer.step()\n",
    "    print(f\"t = {t}, loss = {RSE_loss}, A = {A.detach().numpy()}, b = {b.item()}\")"
   ]
  },
  {
   "cell_type": "code",
   "execution_count": 22,
   "metadata": {},
   "outputs": [
    {
     "data": {
      "text/plain": [
       "tensor([10.4000, 11.0000, 16.0000, 11.7000, 10.9000, 19.4000,  4.8000,  9.9000,\n",
       "        17.3000, 11.4000, 14.7000, 22.4000, 15.9000,  5.7000, 10.5000, 20.2000,\n",
       "        12.5000, 18.0000, 13.2000, 15.2000, 10.1000,  9.6000,  5.6000, 14.7000,\n",
       "         8.7000, 24.7000, 21.8000, 16.7000,  3.2000, 19.7000, 14.1000,  9.7000,\n",
       "         9.6000, 11.3000, 12.2000, 10.6000, 11.8000,  8.8000, 21.4000, 13.2000])"
      ]
     },
     "execution_count": 22,
     "metadata": {},
     "output_type": "execute_result"
    }
   ],
   "source": [
    "y_pred_test = model(x_test)\n",
    "y_test"
   ]
  }
 ],
 "metadata": {
  "kernelspec": {
   "display_name": "Python 3.9.7 ('base')",
   "language": "python",
   "name": "python3"
  },
  "language_info": {
   "codemirror_mode": {
    "name": "ipython",
    "version": 3
   },
   "file_extension": ".py",
   "mimetype": "text/x-python",
   "name": "python",
   "nbconvert_exporter": "python",
   "pygments_lexer": "ipython3",
   "version": "3.9.7"
  },
  "orig_nbformat": 4,
  "vscode": {
   "interpreter": {
    "hash": "3edbd7b23b0fac25ed01096b34e5f59511cb659c0b1d4bb21fa4d1eb2f403c11"
   }
  }
 },
 "nbformat": 4,
 "nbformat_minor": 2
}
